{
 "cells": [
  {
   "cell_type": "markdown",
   "metadata": {},
   "source": [
    "# IoT Challenge - Geolocalization"
   ]
  },
  {
   "cell_type": "code",
   "execution_count": 1,
   "metadata": {
    "ExecuteTime": {
     "end_time": "2019-01-08T17:35:33.884346Z",
     "start_time": "2019-01-08T17:35:26.418609Z"
    }
   },
   "outputs": [],
   "source": [
    "%matplotlib inline\n",
    "import numpy as np\n",
    "import pandas as pd\n",
    "import matplotlib.pyplot as plt\n",
    "from geopy.distance import vincenty\n",
    "\n",
    "import warnings\n",
    "warnings.filterwarnings('ignore')\n",
    "\n",
    "from sklearn.model_selection import train_test_split, KFold\n",
    "from sklearn.ensemble import RandomForestRegressor, ExtraTreesRegressor"
   ]
  },
  {
   "cell_type": "code",
   "execution_count": 3,
   "metadata": {
    "ExecuteTime": {
     "end_time": "2019-01-08T17:36:35.588822Z",
     "start_time": "2019-01-08T17:36:35.367778Z"
    }
   },
   "outputs": [],
   "source": [
    "# load train and test data\n",
    "df_mess_train = pd.read_csv('mess_train_list.csv') # train set\n",
    "df_mess_test = pd.read_csv('mess_test_list.csv') # test set\n",
    "pos_train = pd.read_csv('pos_train_list.csv') # position associated to train set"
   ]
  },
  {
   "cell_type": "markdown",
   "metadata": {},
   "source": [
    "## Data exploration [Théo]"
   ]
  },
  {
   "cell_type": "code",
   "execution_count": null,
   "metadata": {},
   "outputs": [],
   "source": []
  },
  {
   "cell_type": "code",
   "execution_count": null,
   "metadata": {},
   "outputs": [],
   "source": []
  },
  {
   "cell_type": "code",
   "execution_count": null,
   "metadata": {},
   "outputs": [],
   "source": []
  },
  {
   "cell_type": "markdown",
   "metadata": {},
   "source": [
    "## Outliers processing I [André]"
   ]
  },
  {
   "cell_type": "markdown",
   "metadata": {},
   "source": [
    "Following our realization of outlier bases with geolocalization positions that do not seem to make sense, we decided to compute, approximatelly, their longitude and latitude by using the coordinates of the (weighted) barycentre of the messages each outlier base received.\n",
    "\n",
    "The code coded provided below did this cleaning"
   ]
  },
  {
   "cell_type": "code",
   "execution_count": 5,
   "metadata": {
    "ExecuteTime": {
     "end_time": "2019-01-08T18:07:41.367157Z",
     "start_time": "2019-01-08T18:07:41.309214Z"
    }
   },
   "outputs": [],
   "source": [
    "# List of unique messages\n",
    "listOfmess = np.unique(df_mess_train['messid'])\n",
    "\n",
    "# DataFrame with all training_data, including positions\n",
    "df = pd.concat([df_mess_train, pos_train], axis=1)"
   ]
  },
  {
   "cell_type": "code",
   "execution_count": 19,
   "metadata": {
    "ExecuteTime": {
     "end_time": "2019-01-08T18:15:55.093880Z",
     "start_time": "2019-01-08T18:15:55.072508Z"
    }
   },
   "outputs": [
    {
     "data": {
      "text/html": [
       "<div>\n",
       "<style scoped>\n",
       "    .dataframe tbody tr th:only-of-type {\n",
       "        vertical-align: middle;\n",
       "    }\n",
       "\n",
       "    .dataframe tbody tr th {\n",
       "        vertical-align: top;\n",
       "    }\n",
       "\n",
       "    .dataframe thead th {\n",
       "        text-align: right;\n",
       "    }\n",
       "</style>\n",
       "<table border=\"1\" class=\"dataframe\">\n",
       "  <thead>\n",
       "    <tr style=\"text-align: right;\">\n",
       "      <th></th>\n",
       "      <th>bs_lat</th>\n",
       "      <th>bs_lng</th>\n",
       "    </tr>\n",
       "    <tr>\n",
       "      <th>bsid</th>\n",
       "      <th></th>\n",
       "      <th></th>\n",
       "    </tr>\n",
       "  </thead>\n",
       "  <tbody>\n",
       "    <tr>\n",
       "      <th>1772</th>\n",
       "      <td>64.3</td>\n",
       "      <td>-68.5</td>\n",
       "    </tr>\n",
       "    <tr>\n",
       "      <th>4156</th>\n",
       "      <td>64.3</td>\n",
       "      <td>-68.5</td>\n",
       "    </tr>\n",
       "    <tr>\n",
       "      <th>8560</th>\n",
       "      <td>64.3</td>\n",
       "      <td>-68.5</td>\n",
       "    </tr>\n",
       "    <tr>\n",
       "      <th>2943</th>\n",
       "      <td>64.3</td>\n",
       "      <td>-68.5</td>\n",
       "    </tr>\n",
       "    <tr>\n",
       "      <th>8449</th>\n",
       "      <td>64.3</td>\n",
       "      <td>-68.5</td>\n",
       "    </tr>\n",
       "    <tr>\n",
       "      <th>4987</th>\n",
       "      <td>64.3</td>\n",
       "      <td>-68.5</td>\n",
       "    </tr>\n",
       "    <tr>\n",
       "      <th>11951</th>\n",
       "      <td>64.3</td>\n",
       "      <td>-68.5</td>\n",
       "    </tr>\n",
       "    <tr>\n",
       "      <th>2293</th>\n",
       "      <td>64.3</td>\n",
       "      <td>-68.5</td>\n",
       "    </tr>\n",
       "    <tr>\n",
       "      <th>7248</th>\n",
       "      <td>64.3</td>\n",
       "      <td>-68.5</td>\n",
       "    </tr>\n",
       "    <tr>\n",
       "      <th>9784</th>\n",
       "      <td>64.3</td>\n",
       "      <td>-68.5</td>\n",
       "    </tr>\n",
       "  </tbody>\n",
       "</table>\n",
       "</div>"
      ],
      "text/plain": [
       "       bs_lat  bs_lng\n",
       "bsid                 \n",
       "1772     64.3   -68.5\n",
       "4156     64.3   -68.5\n",
       "8560     64.3   -68.5\n",
       "2943     64.3   -68.5\n",
       "8449     64.3   -68.5\n",
       "4987     64.3   -68.5\n",
       "11951    64.3   -68.5\n",
       "2293     64.3   -68.5\n",
       "7248     64.3   -68.5\n",
       "9784     64.3   -68.5"
      ]
     },
     "execution_count": 19,
     "metadata": {},
     "output_type": "execute_result"
    }
   ],
   "source": [
    "# We can notice that the outlier bases have latitude at 64.3 and longitude at -68.5:\n",
    "df.groupby(['bsid']).mean()[['bs_lat', 'bs_lng']].sort_values(['bs_lat'], ascending=False).head(10)"
   ]
  },
  {
   "cell_type": "code",
   "execution_count": 45,
   "metadata": {
    "ExecuteTime": {
     "end_time": "2019-01-08T18:50:33.822628Z",
     "start_time": "2019-01-08T18:50:33.809895Z"
    }
   },
   "outputs": [
    {
     "data": {
      "text/plain": [
       "array([ 8355, 11007,  1594, 10151, 10162,  8451,  4993,  8560,  2293,\n",
       "        4959, 10999,  1661,  8449,  4156,  4129,  1743,  4987,  1772,\n",
       "        1796,  2707,  2943,  4123, 11951,  9784,  1092,  1854,  7248])"
      ]
     },
     "execution_count": 45,
     "metadata": {},
     "output_type": "execute_result"
    }
   ],
   "source": [
    "# Selecting these bases\n",
    "bases_out = df[(df['bs_lat']==64.3) & (df['bs_lng']==-68.5)]['bsid'].unique()\n",
    "bases_out"
   ]
  },
  {
   "cell_type": "code",
   "execution_count": 70,
   "metadata": {
    "ExecuteTime": {
     "end_time": "2019-01-08T19:09:11.357593Z",
     "start_time": "2019-01-08T19:09:09.022017Z"
    }
   },
   "outputs": [],
   "source": [
    "# Getting dataframe with all data for the ouliers bases\n",
    "df_out = df[df['bsid'].isin(bases_out)]\n",
    "\n",
    "# Initiating arrays that will have the lat, long and rssi of messages received by the bases, \n",
    "# Each column represents a message\n",
    "mess_num = len(listOfmess) # number of messages\n",
    "lat_array = np.zeros((df_out.shape[0], mess_num))\n",
    "lng_array = np.zeros((df_out.shape[0], mess_num))\n",
    "weight_array = np.zeros((df_out.shape[0], mess_num)) # weights to be used: sqrt(exp(rssi))\n",
    "    \n",
    "# Dictionary to track message id and corresponding column in array\n",
    "mess_dict = {}\n",
    "for i, column in enumerate(listOfmess):\n",
    "    mess_dict[column] = i\n",
    "    \n",
    "# assigning values to arrays\n",
    "for i, ix in enumerate(df_out.index):\n",
    "    mess = df_out.loc[ix, 'messid']\n",
    "    column = mess_dict[mess]\n",
    "    \n",
    "    # Using sqrt(exp(rssi)) as weight to get weighted centroid\n",
    "    weight_array[i, column] = np.sqrt(np.exp(df_out.loc[ix, 'rssi']))\n",
    "    weight = np.sqrt(np.exp(df_out.loc[ix, 'rssi']))\n",
    "    lat_array[i, column] = df_out.loc[ix, 'lat'] * weight\n",
    "    lng_array[i, column] = df_out.loc[ix, 'lng'] * weight\n",
    "    \n",
    "# Transforming arrays in dataframe in order to use groupby()\n",
    "lat_df = pd.DataFrame(lat_array)\n",
    "lng_df = pd.DataFrame(lng_array)\n",
    "weight_df = pd.DataFrame(weight_array)\n",
    "\n",
    "# Adding column bsid for each dataframes in order to perform groupby()\n",
    "lat_df['bsid'] = lng_df['bsid'] = weight_df['bsid'] = df_out.reset_index()['bsid']\n",
    "\n",
    "# Grouping and suming --- Note that values for lat and lng are already weighted\n",
    "lat_df_grouped = lat_df.groupby('bsid').sum()\n",
    "lng_df_grouped = lng_df.groupby('bsid').sum()\n",
    "weight_df_grouped = weight_df.groupby('bsid').sum()\n",
    "\n",
    "# Dividing each row by the sum of the weights for the respective row\n",
    "lat_df_grouped = lat_df_grouped.divide(weight_df_grouped.sum(axis=1), axis=0)\n",
    "lng_df_grouped = lng_df_grouped.divide(weight_df_grouped.sum(axis=1), axis=0)\n",
    "\n",
    "# Getting the final weighted latitudes and longitudes\n",
    "lat_out = lat_df_grouped.sum(axis=1)\n",
    "lng_out = lng_df_grouped.sum(axis=1)\n",
    "\n",
    "# Assigning these new latitudes and longitudes to the bases in the test and training sets\n",
    "for base in lat_out.index:\n",
    "    df_mess_train.loc[df_mess_train['bsid']==base, 'bs_lat'] = lat_out.loc[base]\n",
    "    df_mess_train.loc[df_mess_train['bsid']==base, 'bs_lng'] = lng_out.loc[base]\n",
    "    \n",
    "    df_mess_test.loc[df_mess_test['bsid']==base, 'bs_lat'] = lat_out.loc[base]\n",
    "    df_mess_test.loc[df_mess_test['bsid']==base, 'bs_lng'] = lng_out.loc[base]"
   ]
  },
  {
   "cell_type": "markdown",
   "metadata": {},
   "source": [
    "## Features Engineering [Mathieu]"
   ]
  },
  {
   "cell_type": "code",
   "execution_count": null,
   "metadata": {},
   "outputs": [],
   "source": []
  },
  {
   "cell_type": "markdown",
   "metadata": {},
   "source": [
    "### One-Hot (Teacher ++ / Mean / RSSI / etc.. )"
   ]
  },
  {
   "cell_type": "code",
   "execution_count": null,
   "metadata": {},
   "outputs": [],
   "source": []
  },
  {
   "cell_type": "markdown",
   "metadata": {},
   "source": [
    "### Usage of barycentre"
   ]
  },
  {
   "cell_type": "markdown",
   "metadata": {},
   "source": [
    "#### Standard barycentre"
   ]
  },
  {
   "cell_type": "code",
   "execution_count": null,
   "metadata": {},
   "outputs": [],
   "source": []
  },
  {
   "cell_type": "markdown",
   "metadata": {},
   "source": [
    "#### Weighted barycentre"
   ]
  },
  {
   "cell_type": "code",
   "execution_count": null,
   "metadata": {},
   "outputs": [],
   "source": []
  },
  {
   "cell_type": "code",
   "execution_count": null,
   "metadata": {},
   "outputs": [],
   "source": []
  },
  {
   "cell_type": "code",
   "execution_count": null,
   "metadata": {},
   "outputs": [],
   "source": []
  },
  {
   "cell_type": "markdown",
   "metadata": {},
   "source": [
    "## Model [Mathieu / Matyas / André]"
   ]
  },
  {
   "cell_type": "code",
   "execution_count": null,
   "metadata": {},
   "outputs": [],
   "source": []
  },
  {
   "cell_type": "markdown",
   "metadata": {},
   "source": [
    "### First raw predictions"
   ]
  },
  {
   "cell_type": "code",
   "execution_count": null,
   "metadata": {},
   "outputs": [],
   "source": []
  },
  {
   "cell_type": "code",
   "execution_count": null,
   "metadata": {},
   "outputs": [],
   "source": []
  },
  {
   "cell_type": "code",
   "execution_count": null,
   "metadata": {},
   "outputs": [],
   "source": []
  },
  {
   "cell_type": "markdown",
   "metadata": {},
   "source": [
    "### Outliers processing II"
   ]
  },
  {
   "cell_type": "code",
   "execution_count": null,
   "metadata": {},
   "outputs": [],
   "source": []
  },
  {
   "cell_type": "code",
   "execution_count": null,
   "metadata": {},
   "outputs": [],
   "source": []
  },
  {
   "cell_type": "markdown",
   "metadata": {},
   "source": [
    "### Fine-tunning / Model selection"
   ]
  },
  {
   "cell_type": "code",
   "execution_count": null,
   "metadata": {},
   "outputs": [],
   "source": []
  },
  {
   "cell_type": "code",
   "execution_count": null,
   "metadata": {},
   "outputs": [],
   "source": []
  },
  {
   "cell_type": "markdown",
   "metadata": {},
   "source": [
    "### Blending of models predictions"
   ]
  },
  {
   "cell_type": "code",
   "execution_count": null,
   "metadata": {},
   "outputs": [],
   "source": [
    "def regressor_and_predict_devices_XtraTree(df_feat, ground_truth_lat, ground_truth_lng, df_test, **kwargs):\n",
    "    '''\n",
    "    Train regressor and make prediction in the train set\n",
    "    Input: df_feat: feature matrix used to train regressor\n",
    "           ground_truth_lat: df_feat associated latitude\n",
    "           ground_truth_lng: df_feat associated longitude\n",
    "           df_test: data frame used for prediction\n",
    "    Output: y_pred_lat, y_pred_lng\n",
    "    '''\n",
    "    \n",
    "    X = df_feat\n",
    "    y_lat = ground_truth_lat\n",
    "    y_lng = ground_truth_lng\n",
    "    \n",
    "    model = ExtraTreesRegressor(n_jobs=-1, max_depth=3000, n_estimators=500,\n",
    "                                min_samples_split=6, min_impurity_decrease=2.1544346900318822e-07)\n",
    "    \n",
    "    model.fit(X, np.array([y_lat, y_lng]).T)\n",
    "    y_pred_lat, y_pred_lng = model.predict(df_test).T\n",
    "    \n",
    "    return y_pred_lat, y_pred_lng"
   ]
  },
  {
   "cell_type": "code",
   "execution_count": null,
   "metadata": {},
   "outputs": [],
   "source": [
    "def regressor_and_predict_devices_xgb_lat(df_feat, ground_truth_lat, df_test, **kwargs):\n",
    "    '''\n",
    "    Train regressor and make prediction in the train set\n",
    "    Input: df_feat: feature matrix used to train regressor\n",
    "           ground_truth_lat: df_feat associated latitude\n",
    "           ground_truth_lng: df_feat associated longitude\n",
    "           df_test: data frame used for prediction\n",
    "    Output: y_pred_lat, y_pred_lng\n",
    "    '''\n",
    "    \n",
    "    X = df_feat\n",
    "    y_lat = ground_truth_lat\n",
    "    \n",
    "    model = xgb.XGBRegressor(n_estimators=1000, n_jobs=-1)\n",
    "    #print(model)\n",
    "\n",
    "    model.fit(X, np.array([y_lat]).T)\n",
    "    y_pred_lat = model.predict(df_test).T\n",
    "    \n",
    "    \n",
    "    return y_pred_lat\n",
    "\n",
    "\n",
    "\n",
    "def regressor_and_predict_devices_xgb_lng(df_feat, ground_truth_lng, df_test, **kwargs):\n",
    "    '''\n",
    "    Train regressor and make prediction in the train set\n",
    "    Input: df_feat: feature matrix used to train regressor\n",
    "           ground_truth_lat: df_feat associated latitude\n",
    "           ground_truth_lng: df_feat associated longitude\n",
    "           df_test: data frame used for prediction\n",
    "    Output: y_pred_lat, y_pred_lng\n",
    "    '''\n",
    "    \n",
    "    X = df_feat\n",
    "    y_lng = ground_truth_lng\n",
    "    model = xgb.XGBRegressor(n_estimators=1000, n_jobs=-1)\n",
    "    #print(model)\n",
    "    model.fit(X, np.array([y_lng]).T)\n",
    "    y_pred_lng = model.predict(df_test).T\n",
    "    \n",
    "    \n",
    "    return y_pred_lng"
   ]
  },
  {
   "cell_type": "code",
   "execution_count": 3,
   "metadata": {},
   "outputs": [],
   "source": [
    "kf = KFold(n_splits=n_devices_train, shuffle=False, random_state=0)\n",
    "\n",
    "devices_out = []\n",
    "devices_far = set([])\n",
    "\n",
    "\n",
    "k_fold_perc_fusion = []\n",
    "k_fold_perc_xtra = []\n",
    "k_fold_perc_xgb = []\n",
    "for step, (train_index, test_index) in enumerate(kf.split(devices)):\n",
    "        \n",
    "    train_devices = devices[train_index]\n",
    "    test_devices = devices[test_index]\n",
    "    devices_out.append(test_devices[0])\n",
    "        \n",
    "    mess_train = df_mess_train[df_mess_train.did.isin(train_devices)].messid.unique()\n",
    "    mess_test = df_mess_train[df_mess_train.did.isin(test_devices)].messid.unique()\n",
    "\n",
    "    X_train = df_feat.loc[mess_train]\n",
    "    X_test = df_feat.loc[mess_test]\n",
    "        \n",
    "    lat_train, lng_train = (ground_truth_lat[df_feat.index.isin(mess_train)], \n",
    "                            ground_truth_lng[df_feat.index.isin(mess_train)])\n",
    "    lat_test, lng_test = (ground_truth_lat[df_feat.index.isin(mess_test)],\n",
    "                            ground_truth_lng[df_feat.index.isin(mess_test)])\n",
    "        \n",
    "        \n",
    "    # ExtraTree predictions\n",
    "    y_pred_lat_xtra_lat, y_pred_xtra_lng = regressor_and_predict_devices_XtraTree(X_train, lat_train, lng_train, X_test, \n",
    "                                                               **best_params)\n",
    "        \n",
    "    # XGBoost predictions\n",
    "    y_pred_xgb_lat = regressor_and_predict_devices_xgb_lat(X_train, lat_train, X_test, \n",
    "                                                               **best_params)\n",
    "    y_pred_xgb_lng = regressor_and_predict_devices_xgb_lng(X_train, lng_train, X_test, \n",
    "                                                               **best_params)\n",
    "        \n",
    "    # Mean of the predictions\n",
    "    y_pred_lat = (y_pred_lat_xtra_lat + y_pred_xgb_lat) / 2\n",
    "    y_pred_lng = (y_pred_xtra_lng + y_pred_xgb_lng) / 2\n",
    "    \n",
    "    err_xtra = Eval_geoloc(lat_test, lng_test, y_pred_lat_xtra_lat, y_pred_xtra_lng)\n",
    "    err_xgb = Eval_geoloc(lat_test, lng_test, y_pred_xgb_lat, y_pred_xgb_lng)\n",
    "    err_fusion = Eval_geoloc(lat_test, lng_test, y_pred_lat, y_pred_lng)\n",
    "    \n",
    "    percentile_fusion = np.percentile(err_fusion, 80)\n",
    "    k_fold_perc_fusion.append(percentile_fusion)\n",
    "    \n",
    "    percentile_xtra = np.percentile(err_xtra, 80)\n",
    "    k_fold_perc_xtra.append(percentile_xtra)\n",
    "    \n",
    "    percentile_xgb = np.percentile(err_xgb, 80)\n",
    "    k_fold_perc_xgb.append(percentile_xgb)\n",
    "    \n",
    "    if(percentile_fusion > 10000):\n",
    "        devices_far.add(test_devices[0])\n",
    "        \n",
    "    print(f\"Crossvalidation step {step}.. device {test_devices[0]}.. percentile XTree: {percentile_xtra:.2f}\")\n",
    "    print(f\"Crossvalidation step {step}.. device {test_devices[0]}.. percentile XGB: {percentile_xgb:.2f}\")\n",
    "    print(f\"Crossvalidation step {step}.. device {test_devices[0]}.. percentile fusion: {percentile_fusion:.2f}\")\n",
    "    print(\"-----------------------------------------------------\")\n",
    "    \n",
    "mean_perc_fusion = np.array(k_fold_perc_fusion).mean()\n",
    "mean_perc_xtra = np.array(k_fold_perc_xtra).mean()\n",
    "mean_perc_xgb = np.array(k_fold_perc_xgb).mean()\n",
    "print(\"-----------------------------------------------------\")\n",
    "print(f\"Percentile mean for fusion {mean_perc_fusion:.2f}\")\n",
    "print(f\"Percentile mean for XTree {mean_perc_xtra:.2f}\")\n",
    "print(f\"Percentile mean for XGB {mean_perc_xgb:.2f}\")\n",
    "print(\"-----------------------------------------------------\\n\")\n",
    "#percentiles.append(mean_perc)\n",
    "\n",
    "#best_param = params_list[np.array(percentiles).argmin()]\n"
   ]
  },
  {
   "cell_type": "code",
   "execution_count": null,
   "metadata": {},
   "outputs": [],
   "source": []
  },
  {
   "cell_type": "markdown",
   "metadata": {},
   "source": [
    "## Testset preprocessing [André] "
   ]
  },
  {
   "cell_type": "markdown",
   "metadata": {},
   "source": [
    "We can notice that the test set has some of the outliers bases that are not present in the training set:"
   ]
  },
  {
   "cell_type": "code",
   "execution_count": 93,
   "metadata": {
    "ExecuteTime": {
     "end_time": "2019-01-08T21:03:37.471602Z",
     "start_time": "2019-01-08T21:03:37.458788Z"
    }
   },
   "outputs": [
    {
     "data": {
      "text/plain": [
       "array([9949, 9941])"
      ]
     },
     "execution_count": 93,
     "metadata": {},
     "output_type": "execute_result"
    }
   ],
   "source": [
    "out_bases_test = df_mess_test[(df_mess_test['bs_lat']==64.3) & (df_mess_test['bs_lng']==-68.5)]['bsid'].unique()\n",
    "out_bases_test"
   ]
  },
  {
   "cell_type": "markdown",
   "metadata": {},
   "source": [
    "We can not replace their positions as we do not have the coordinates of the messages in the test set. Therefore, we decided to not include these two bases when computing the features (weighted barycentre) of the messages.\n",
    "\n",
    "There is however one of these two bases, base 9949, that detect two messages which are only detected by that base:"
   ]
  },
  {
   "cell_type": "code",
   "execution_count": 91,
   "metadata": {
    "ExecuteTime": {
     "end_time": "2019-01-08T21:01:24.166518Z",
     "start_time": "2019-01-08T21:01:24.158568Z"
    }
   },
   "outputs": [
    {
     "data": {
      "text/plain": [
       "array(['57b99c16cf554f465ad8de48', '57b9eff912f1434591626c19'],\n",
       "      dtype=object)"
      ]
     },
     "execution_count": 91,
     "metadata": {},
     "output_type": "execute_result"
    }
   ],
   "source": [
    "# Getting the messages detected by the base 9949\n",
    "messages_9949 = df_mess_test[df_mess_test.bsid == 9949].messid.values\n",
    "messages_9949"
   ]
  },
  {
   "cell_type": "code",
   "execution_count": 92,
   "metadata": {
    "ExecuteTime": {
     "end_time": "2019-01-08T21:02:05.665211Z",
     "start_time": "2019-01-08T21:02:05.641696Z"
    }
   },
   "outputs": [
    {
     "data": {
      "text/html": [
       "<div>\n",
       "<style scoped>\n",
       "    .dataframe tbody tr th:only-of-type {\n",
       "        vertical-align: middle;\n",
       "    }\n",
       "\n",
       "    .dataframe tbody tr th {\n",
       "        vertical-align: top;\n",
       "    }\n",
       "\n",
       "    .dataframe thead th {\n",
       "        text-align: right;\n",
       "    }\n",
       "</style>\n",
       "<table border=\"1\" class=\"dataframe\">\n",
       "  <thead>\n",
       "    <tr style=\"text-align: right;\">\n",
       "      <th></th>\n",
       "      <th>messid</th>\n",
       "      <th>bsid</th>\n",
       "      <th>did</th>\n",
       "      <th>nseq</th>\n",
       "      <th>rssi</th>\n",
       "      <th>time_ux</th>\n",
       "      <th>bs_lat</th>\n",
       "      <th>bs_lng</th>\n",
       "    </tr>\n",
       "  </thead>\n",
       "  <tbody>\n",
       "    <tr>\n",
       "      <th>13431</th>\n",
       "      <td>57b99c16cf554f465ad8de48</td>\n",
       "      <td>9949</td>\n",
       "      <td>472066.0</td>\n",
       "      <td>2.0</td>\n",
       "      <td>-122.000000</td>\n",
       "      <td>1.471782e+12</td>\n",
       "      <td>64.3</td>\n",
       "      <td>-68.5</td>\n",
       "    </tr>\n",
       "    <tr>\n",
       "      <th>13434</th>\n",
       "      <td>57b9eff912f1434591626c19</td>\n",
       "      <td>9949</td>\n",
       "      <td>472066.0</td>\n",
       "      <td>1.0</td>\n",
       "      <td>-118.666667</td>\n",
       "      <td>1.471803e+12</td>\n",
       "      <td>64.3</td>\n",
       "      <td>-68.5</td>\n",
       "    </tr>\n",
       "  </tbody>\n",
       "</table>\n",
       "</div>"
      ],
      "text/plain": [
       "                         messid  bsid       did  nseq        rssi  \\\n",
       "13431  57b99c16cf554f465ad8de48  9949  472066.0   2.0 -122.000000   \n",
       "13434  57b9eff912f1434591626c19  9949  472066.0   1.0 -118.666667   \n",
       "\n",
       "            time_ux  bs_lat  bs_lng  \n",
       "13431  1.471782e+12    64.3   -68.5  \n",
       "13434  1.471803e+12    64.3   -68.5  "
      ]
     },
     "execution_count": 92,
     "metadata": {},
     "output_type": "execute_result"
    }
   ],
   "source": [
    "# Display all rows with both messages\n",
    "df_mess_test[df_mess_test.messid.isin(messages_9949)]"
   ]
  },
  {
   "cell_type": "markdown",
   "metadata": {},
   "source": [
    "We can see that this does not happen with the base 9941 as each of the three messages it detects is detected by the base 9941:"
   ]
  },
  {
   "cell_type": "code",
   "execution_count": 94,
   "metadata": {
    "ExecuteTime": {
     "end_time": "2019-01-08T21:04:18.831050Z",
     "start_time": "2019-01-08T21:04:18.808029Z"
    }
   },
   "outputs": [
    {
     "data": {
      "text/html": [
       "<div>\n",
       "<style scoped>\n",
       "    .dataframe tbody tr th:only-of-type {\n",
       "        vertical-align: middle;\n",
       "    }\n",
       "\n",
       "    .dataframe tbody tr th {\n",
       "        vertical-align: top;\n",
       "    }\n",
       "\n",
       "    .dataframe thead th {\n",
       "        text-align: right;\n",
       "    }\n",
       "</style>\n",
       "<table border=\"1\" class=\"dataframe\">\n",
       "  <thead>\n",
       "    <tr style=\"text-align: right;\">\n",
       "      <th></th>\n",
       "      <th>messid</th>\n",
       "      <th>bsid</th>\n",
       "      <th>did</th>\n",
       "      <th>nseq</th>\n",
       "      <th>rssi</th>\n",
       "      <th>time_ux</th>\n",
       "      <th>bs_lat</th>\n",
       "      <th>bs_lng</th>\n",
       "    </tr>\n",
       "  </thead>\n",
       "  <tbody>\n",
       "    <tr>\n",
       "      <th>14667</th>\n",
       "      <td>57cbf92412f1437531983238</td>\n",
       "      <td>9936</td>\n",
       "      <td>472066.0</td>\n",
       "      <td>1.0</td>\n",
       "      <td>-118.333333</td>\n",
       "      <td>1.472985e+12</td>\n",
       "      <td>48.072889</td>\n",
       "      <td>-110.957181</td>\n",
       "    </tr>\n",
       "    <tr>\n",
       "      <th>14668</th>\n",
       "      <td>57cbf92412f1437531983238</td>\n",
       "      <td>9941</td>\n",
       "      <td>472066.0</td>\n",
       "      <td>1.0</td>\n",
       "      <td>-123.500000</td>\n",
       "      <td>1.472985e+12</td>\n",
       "      <td>64.300000</td>\n",
       "      <td>-68.500000</td>\n",
       "    </tr>\n",
       "    <tr>\n",
       "      <th>14669</th>\n",
       "      <td>57cbfbbfcf554f22dc736cb2</td>\n",
       "      <td>9936</td>\n",
       "      <td>472066.0</td>\n",
       "      <td>1.0</td>\n",
       "      <td>-111.333333</td>\n",
       "      <td>1.472986e+12</td>\n",
       "      <td>48.072889</td>\n",
       "      <td>-110.957181</td>\n",
       "    </tr>\n",
       "    <tr>\n",
       "      <th>14670</th>\n",
       "      <td>57cbfbbfcf554f22dc736cb2</td>\n",
       "      <td>9941</td>\n",
       "      <td>472066.0</td>\n",
       "      <td>1.0</td>\n",
       "      <td>-124.666667</td>\n",
       "      <td>1.472986e+12</td>\n",
       "      <td>64.300000</td>\n",
       "      <td>-68.500000</td>\n",
       "    </tr>\n",
       "    <tr>\n",
       "      <th>28670</th>\n",
       "      <td>5843e9a6cf554f422f2b7495</td>\n",
       "      <td>9936</td>\n",
       "      <td>472066.0</td>\n",
       "      <td>1.0</td>\n",
       "      <td>-127.500000</td>\n",
       "      <td>1.480846e+12</td>\n",
       "      <td>48.072889</td>\n",
       "      <td>-110.957181</td>\n",
       "    </tr>\n",
       "    <tr>\n",
       "      <th>28671</th>\n",
       "      <td>5843e9a6cf554f422f2b7495</td>\n",
       "      <td>9941</td>\n",
       "      <td>472066.0</td>\n",
       "      <td>2.0</td>\n",
       "      <td>-135.000000</td>\n",
       "      <td>1.480846e+12</td>\n",
       "      <td>64.300000</td>\n",
       "      <td>-68.500000</td>\n",
       "    </tr>\n",
       "  </tbody>\n",
       "</table>\n",
       "</div>"
      ],
      "text/plain": [
       "                         messid  bsid       did  nseq        rssi  \\\n",
       "14667  57cbf92412f1437531983238  9936  472066.0   1.0 -118.333333   \n",
       "14668  57cbf92412f1437531983238  9941  472066.0   1.0 -123.500000   \n",
       "14669  57cbfbbfcf554f22dc736cb2  9936  472066.0   1.0 -111.333333   \n",
       "14670  57cbfbbfcf554f22dc736cb2  9941  472066.0   1.0 -124.666667   \n",
       "28670  5843e9a6cf554f422f2b7495  9936  472066.0   1.0 -127.500000   \n",
       "28671  5843e9a6cf554f422f2b7495  9941  472066.0   2.0 -135.000000   \n",
       "\n",
       "            time_ux     bs_lat      bs_lng  \n",
       "14667  1.472985e+12  48.072889 -110.957181  \n",
       "14668  1.472985e+12  64.300000  -68.500000  \n",
       "14669  1.472986e+12  48.072889 -110.957181  \n",
       "14670  1.472986e+12  64.300000  -68.500000  \n",
       "28670  1.480846e+12  48.072889 -110.957181  \n",
       "28671  1.480846e+12  64.300000  -68.500000  "
      ]
     },
     "execution_count": 94,
     "metadata": {},
     "output_type": "execute_result"
    }
   ],
   "source": [
    "messages_9941 = df_mess_test[df_mess_test.bsid == 9941].messid.values\n",
    "df_mess_test[df_mess_test.messid.isin(messages_9941)]"
   ]
  },
  {
   "cell_type": "markdown",
   "metadata": {},
   "source": [
    "AS both messages detected by the base 9949 are from the same device (did == 472066.0) we decided to predict their position as the mean position of the predictions of other detected messages from the same device. "
   ]
  },
  {
   "cell_type": "markdown",
   "metadata": {},
   "source": [
    "### Processing test set for the same structure as training set"
   ]
  },
  {
   "cell_type": "code",
   "execution_count": 96,
   "metadata": {
    "ExecuteTime": {
     "end_time": "2019-01-08T22:03:43.825955Z",
     "start_time": "2019-01-08T22:03:43.814341Z"
    }
   },
   "outputs": [],
   "source": [
    "# List of bases for test, excluding bases 9949, 9941\n",
    "listOfBs_test = np.setdiff1d(\n",
    "                    np.union1d(np.unique(df_mess_train['bsid']), np.unique(df_mess_test['bsid'])),\n",
    "                    out_bases_test\n",
    "                )"
   ]
  },
  {
   "cell_type": "code",
   "execution_count": 112,
   "metadata": {
    "ExecuteTime": {
     "end_time": "2019-01-08T22:26:27.981611Z",
     "start_time": "2019-01-08T22:26:27.966453Z"
    },
    "code_folding": []
   },
   "outputs": [],
   "source": [
    "# Feature Matrix construction for test\n",
    "# There is a try / except cell to handle keyError with bsids 9949 and 9941\n",
    "\n",
    "def feat_mat_const_test(df_mess_test, listOfBs):\n",
    "    ''' \n",
    "    Method used for creation of features. It uses numpy for calculations due to optimization issues\n",
    "    \n",
    "    Parameters\n",
    "    ----------\n",
    "    df_mess_test: raw test dataFrame with input data\n",
    "    listOfBs: list of unique bases present in both train and test sets\n",
    "    \n",
    "    Returns\n",
    "    -------\n",
    "    df_feat: modified dataFrame with created features: longitude and latitude of the (weighted) \n",
    "    barycentre of the bases that detected each message\n",
    "    '''\n",
    "    \n",
    "    bases_num = len(listOfBs)\n",
    "    \n",
    "    # Dictionnary that will track the column in the numpy array and its correpondent base \n",
    "    bases_dict = {}\n",
    "    for i, column in enumerate(listOfBs):\n",
    "        bases_dict[column] = i\n",
    "    \n",
    "    # Creating array to be transformed at feature matrix (columns = features)\n",
    "    lat_array = np.zeros((df_mess_test.shape[0], bases_num))\n",
    "    lng_array = np.zeros((df_mess_test.shape[0], bases_num))\n",
    "    weights_array = np.zeros((df_mess_test.shape[0], bases_num))\n",
    "    \n",
    "    # assigning values for new features\n",
    "    for i in df_mess_test.index:\n",
    "        try: \n",
    "            # getting bsid for current row\n",
    "            bsid = df_mess_test.loc[i, 'bsid']\n",
    "            # getting colum to assign value in bases_array\n",
    "            column = bases_dict[bsid]\n",
    "            # assigning weight (sqrt(rssi)) value to cell in bases array\n",
    "            weight = np.exp(df_mess_test.loc[i, 'rssi'])**(1/2)\n",
    "            lat_array[i, column] = weight * df_mess_test.loc[i, 'bs_lat']\n",
    "            lng_array[i, column] = weight * df_mess_test.loc[i, 'bs_lng']\n",
    "            weights_array[i, column] = weight\n",
    "        \n",
    "        # To handle when we get a key error when bsid is equal to 9941 or 9949\n",
    "        except KeyError: \n",
    "            pass\n",
    "    \n",
    "    # Tranforming bases_array to dataFrame in order to use .groupby()\n",
    "\n",
    "    lat_df = pd.DataFrame(lat_array)\n",
    "    lng_df = pd.DataFrame(lng_array)\n",
    "    weights_df = pd.DataFrame(weights_array)\n",
    "    \n",
    "    \n",
    "    # Using groupby() and getting final dataFrame of features\n",
    "    \n",
    "    # Adding messid column to each data-frame (lat, lng and weights)\n",
    "    lat_df['messid'] = df_mess_test['messid']\n",
    "    lng_df['messid'] = df_mess_test['messid']\n",
    "    weights_df['messid'] = df_mess_test['messid']\n",
    "    \n",
    "    lat = lat_df.groupby('messid').sum().sum(axis=1)\n",
    "    lng = lng_df.groupby('messid').sum().sum(axis=1)\n",
    "    weights = weights_df.groupby('messid').sum().sum(axis=1)\n",
    "    \n",
    "    # Normalizing\n",
    "    df_feat = pd.DataFrame([lat, lng], index=['lat','lng'])\n",
    "    df_feat = (df_feat/weights).T\n",
    "    \n",
    "    return df_feat"
   ]
  },
  {
   "cell_type": "code",
   "execution_count": 106,
   "metadata": {
    "ExecuteTime": {
     "end_time": "2019-01-08T22:15:32.098862Z",
     "start_time": "2019-01-08T22:15:30.298052Z"
    }
   },
   "outputs": [],
   "source": [
    "# Creating dataframe of features for the test set\n",
    "df_test = feat_mat_const_barycentre(df_mess_test, listOfBs_test)"
   ]
  },
  {
   "cell_type": "code",
   "execution_count": 107,
   "metadata": {
    "ExecuteTime": {
     "end_time": "2019-01-08T22:15:37.181308Z",
     "start_time": "2019-01-08T22:15:37.169954Z"
    }
   },
   "outputs": [
    {
     "data": {
      "text/html": [
       "<div>\n",
       "<style scoped>\n",
       "    .dataframe tbody tr th:only-of-type {\n",
       "        vertical-align: middle;\n",
       "    }\n",
       "\n",
       "    .dataframe tbody tr th {\n",
       "        vertical-align: top;\n",
       "    }\n",
       "\n",
       "    .dataframe thead th {\n",
       "        text-align: right;\n",
       "    }\n",
       "</style>\n",
       "<table border=\"1\" class=\"dataframe\">\n",
       "  <thead>\n",
       "    <tr style=\"text-align: right;\">\n",
       "      <th></th>\n",
       "      <th>lat</th>\n",
       "      <th>lng</th>\n",
       "    </tr>\n",
       "    <tr>\n",
       "      <th>messid</th>\n",
       "      <th></th>\n",
       "      <th></th>\n",
       "    </tr>\n",
       "  </thead>\n",
       "  <tbody>\n",
       "    <tr>\n",
       "      <th>573be2503e952e191262c351</th>\n",
       "      <td>39.728651</td>\n",
       "      <td>-105.163032</td>\n",
       "    </tr>\n",
       "    <tr>\n",
       "      <th>573c05f83e952e1912758013</th>\n",
       "      <td>39.783207</td>\n",
       "      <td>-105.088708</td>\n",
       "    </tr>\n",
       "    <tr>\n",
       "      <th>573c0796f0fe6e735a66deb3</th>\n",
       "      <td>39.655285</td>\n",
       "      <td>-105.043437</td>\n",
       "    </tr>\n",
       "    <tr>\n",
       "      <th>573c08d2864fce1a9a0563bc</th>\n",
       "      <td>39.782113</td>\n",
       "      <td>-105.072701</td>\n",
       "    </tr>\n",
       "    <tr>\n",
       "      <th>573c08ff864fce1a9a0579b0</th>\n",
       "      <td>39.655282</td>\n",
       "      <td>-105.043385</td>\n",
       "    </tr>\n",
       "  </tbody>\n",
       "</table>\n",
       "</div>"
      ],
      "text/plain": [
       "                                lat         lng\n",
       "messid                                         \n",
       "573be2503e952e191262c351  39.728651 -105.163032\n",
       "573c05f83e952e1912758013  39.783207 -105.088708\n",
       "573c0796f0fe6e735a66deb3  39.655285 -105.043437\n",
       "573c08d2864fce1a9a0563bc  39.782113 -105.072701\n",
       "573c08ff864fce1a9a0579b0  39.655282 -105.043385"
      ]
     },
     "execution_count": 107,
     "metadata": {},
     "output_type": "execute_result"
    }
   ],
   "source": [
    "df_test.head()"
   ]
  },
  {
   "cell_type": "code",
   "execution_count": 110,
   "metadata": {
    "ExecuteTime": {
     "end_time": "2019-01-08T22:16:40.034889Z",
     "start_time": "2019-01-08T22:16:40.018987Z"
    }
   },
   "outputs": [
    {
     "data": {
      "text/html": [
       "<div>\n",
       "<style scoped>\n",
       "    .dataframe tbody tr th:only-of-type {\n",
       "        vertical-align: middle;\n",
       "    }\n",
       "\n",
       "    .dataframe tbody tr th {\n",
       "        vertical-align: top;\n",
       "    }\n",
       "\n",
       "    .dataframe thead th {\n",
       "        text-align: right;\n",
       "    }\n",
       "</style>\n",
       "<table border=\"1\" class=\"dataframe\">\n",
       "  <thead>\n",
       "    <tr style=\"text-align: right;\">\n",
       "      <th></th>\n",
       "      <th>lat</th>\n",
       "      <th>lng</th>\n",
       "    </tr>\n",
       "    <tr>\n",
       "      <th>messid</th>\n",
       "      <th></th>\n",
       "      <th></th>\n",
       "    </tr>\n",
       "  </thead>\n",
       "  <tbody>\n",
       "    <tr>\n",
       "      <th>57b99c16cf554f465ad8de48</th>\n",
       "      <td>NaN</td>\n",
       "      <td>NaN</td>\n",
       "    </tr>\n",
       "    <tr>\n",
       "      <th>57b9eff912f1434591626c19</th>\n",
       "      <td>NaN</td>\n",
       "      <td>NaN</td>\n",
       "    </tr>\n",
       "  </tbody>\n",
       "</table>\n",
       "</div>"
      ],
      "text/plain": [
       "                          lat  lng\n",
       "messid                            \n",
       "57b99c16cf554f465ad8de48  NaN  NaN\n",
       "57b9eff912f1434591626c19  NaN  NaN"
      ]
     },
     "execution_count": 110,
     "metadata": {},
     "output_type": "execute_result"
    }
   ],
   "source": [
    "# Checking for the messages detected by base 9949 (predictions to be replaced)\n",
    "df_test.loc[messages_9949]"
   ]
  },
  {
   "cell_type": "code",
   "execution_count": 111,
   "metadata": {
    "ExecuteTime": {
     "end_time": "2019-01-08T22:17:53.572656Z",
     "start_time": "2019-01-08T22:17:53.560601Z"
    }
   },
   "outputs": [
    {
     "data": {
      "text/html": [
       "<div>\n",
       "<style scoped>\n",
       "    .dataframe tbody tr th:only-of-type {\n",
       "        vertical-align: middle;\n",
       "    }\n",
       "\n",
       "    .dataframe tbody tr th {\n",
       "        vertical-align: top;\n",
       "    }\n",
       "\n",
       "    .dataframe thead th {\n",
       "        text-align: right;\n",
       "    }\n",
       "</style>\n",
       "<table border=\"1\" class=\"dataframe\">\n",
       "  <thead>\n",
       "    <tr style=\"text-align: right;\">\n",
       "      <th></th>\n",
       "      <th>lat</th>\n",
       "      <th>lng</th>\n",
       "    </tr>\n",
       "    <tr>\n",
       "      <th>messid</th>\n",
       "      <th></th>\n",
       "      <th></th>\n",
       "    </tr>\n",
       "  </thead>\n",
       "  <tbody>\n",
       "    <tr>\n",
       "      <th>57cbf92412f1437531983238</th>\n",
       "      <td>48.072889</td>\n",
       "      <td>-110.957181</td>\n",
       "    </tr>\n",
       "    <tr>\n",
       "      <th>57cbfbbfcf554f22dc736cb2</th>\n",
       "      <td>48.072889</td>\n",
       "      <td>-110.957181</td>\n",
       "    </tr>\n",
       "    <tr>\n",
       "      <th>5843e9a6cf554f422f2b7495</th>\n",
       "      <td>48.072889</td>\n",
       "      <td>-110.957181</td>\n",
       "    </tr>\n",
       "  </tbody>\n",
       "</table>\n",
       "</div>"
      ],
      "text/plain": [
       "                                lat         lng\n",
       "messid                                         \n",
       "57cbf92412f1437531983238  48.072889 -110.957181\n",
       "57cbfbbfcf554f22dc736cb2  48.072889 -110.957181\n",
       "5843e9a6cf554f422f2b7495  48.072889 -110.957181"
      ]
     },
     "execution_count": 111,
     "metadata": {},
     "output_type": "execute_result"
    }
   ],
   "source": [
    "# Checking for the messages detected by base 9941 (these will not be replaced)\n",
    "df_test.loc[messages_9941]"
   ]
  },
  {
   "cell_type": "markdown",
   "metadata": {},
   "source": [
    "## Running final model and computing predictions on test set [André] "
   ]
  },
  {
   "cell_type": "code",
   "execution_count": null,
   "metadata": {},
   "outputs": [],
   "source": []
  }
 ],
 "metadata": {
  "hide_input": false,
  "kernelspec": {
   "display_name": "Python 3",
   "language": "python",
   "name": "python3"
  },
  "language_info": {
   "codemirror_mode": {
    "name": "ipython",
    "version": 3
   },
   "file_extension": ".py",
   "mimetype": "text/x-python",
   "name": "python",
   "nbconvert_exporter": "python",
   "pygments_lexer": "ipython3",
   "version": "3.6.5"
  },
  "toc": {
   "base_numbering": 1,
   "nav_menu": {},
   "number_sections": true,
   "sideBar": true,
   "skip_h1_title": true,
   "title_cell": "Table of Contents",
   "title_sidebar": "Contents",
   "toc_cell": false,
   "toc_position": {},
   "toc_section_display": true,
   "toc_window_display": true
  },
  "varInspector": {
   "cols": {
    "lenName": 16,
    "lenType": 16,
    "lenVar": 40
   },
   "kernels_config": {
    "python": {
     "delete_cmd_postfix": "",
     "delete_cmd_prefix": "del ",
     "library": "var_list.py",
     "varRefreshCmd": "print(var_dic_list())"
    },
    "r": {
     "delete_cmd_postfix": ") ",
     "delete_cmd_prefix": "rm(",
     "library": "var_list.r",
     "varRefreshCmd": "cat(var_dic_list()) "
    }
   },
   "types_to_exclude": [
    "module",
    "function",
    "builtin_function_or_method",
    "instance",
    "_Feature"
   ],
   "window_display": false
  }
 },
 "nbformat": 4,
 "nbformat_minor": 2
}
